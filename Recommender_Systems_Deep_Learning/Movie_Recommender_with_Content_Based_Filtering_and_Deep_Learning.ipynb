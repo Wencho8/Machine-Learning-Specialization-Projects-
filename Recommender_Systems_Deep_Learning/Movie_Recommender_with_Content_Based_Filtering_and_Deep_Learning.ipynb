{
  "nbformat": 4,
  "nbformat_minor": 0,
  "metadata": {
    "colab": {
      "provenance": [],
      "authorship_tag": "ABX9TyNcbGC/KhiF5+DrfVjDl/ss"
    },
    "kernelspec": {
      "name": "python3",
      "display_name": "Python 3"
    },
    "language_info": {
      "name": "python"
    }
  },
  "cells": [
    {
      "cell_type": "markdown",
      "source": [
        "# Movie Recommender with Content-Based Filtering and Neural Networks\n",
        "\n",
        "This notebook implements a neural network with ***TensorFlow*** to create a content-based movie recommender. Unlike ***collaborative filtering***, which only leverages user-item interactions (e.g., ratings) to generate user and item vectors, **content-based filtering** utilizes additional information about both the user and the movie to enhance predictions.\n",
        "\n",
        "**User and Movie Feature Vectors:**  The model generates a feature vector for each user and movie. The user feature vector captures the user’s preferences based on their past interactions with the movies. The movie feature vector represents the movie’s attributes, like genre or release date.\n",
        "\n",
        "**Prediction Through Vector Similarity**: Predictions are made by calculating the dot product between user and movie vectors ( $v_u$ .  $v_m$). This similarity measure, based on the cosine of the angle between vectors, shows how well a movie aligns with a user’s preferences, providing a personalized recommendation score.\n",
        "\n",
        "**Finding Similar Items**\n",
        "To identify similar items, we can analyze only the item/movie vectors, without needing the user vector. Movies with similar feature vectors are considered alike, allowing us to make recommendations based on item similarity. For example, if a user rates a specific movie highly, we can recommend other movies with closely matching feature vectors, suggesting content that aligns with the user’s interests.\n",
        "\n",
        "A similarity measure is the squared distance between the two vectors of movies/items $ \\mathbf{v_m^{(k)}}$ and $\\mathbf{v_m^{(i)}}$ :\n",
        "$$\\left\\Vert \\mathbf{v_m^{(k)}} - \\mathbf{v_m^{(i)}}  \\right\\Vert^2 = \\sum_{l=1}^{n}(v_{m_l}^{(k)} - v_{m_l}^{(i)})^2$$\n",
        "\n",
        "\n",
        "\n",
        "\n",
        "\n"
      ],
      "metadata": {
        "id": "K30yaT6Yl0d6"
      }
    },
    {
      "cell_type": "code",
      "source": [
        "import numpy as np\n",
        "import numpy.ma as ma\n",
        "import pandas as pd\n",
        "import tensorflow as tf\n",
        "from tensorflow import keras\n",
        "from sklearn.preprocessing import StandardScaler, MinMaxScaler\n",
        "from sklearn.model_selection import train_test_split\n",
        "\n",
        "from numpy import genfromtxt\n",
        "import csv\n",
        "from collections import defaultdict\n",
        "pd.set_option(\"display.precision\", 1)\n",
        "\n",
        "from IPython.display import display, HTML\n",
        "!pip install pickle5\n",
        "import pickle5 as pickle"
      ],
      "metadata": {
        "id": "Cex24E0dl39_",
        "colab": {
          "base_uri": "https://localhost:8080/"
        },
        "outputId": "bfeaeeec-a458-46ec-a9d8-0be75e51a650"
      },
      "execution_count": null,
      "outputs": [
        {
          "output_type": "stream",
          "name": "stdout",
          "text": [
            "Requirement already satisfied: pickle5 in /usr/local/lib/python3.10/dist-packages (0.0.11)\n"
          ]
        }
      ]
    },
    {
      "cell_type": "markdown",
      "source": [
        "### Preparing the dataset\n",
        "\n",
        "#### Dataset\n",
        "The data set is derived from the [MovieLens ml-latest-small](https://grouplens.org/datasets/movielens/latest/) dataset.\n",
        "\n",
        "The original dataset has roughly 9000 movies rated by 600 users with ratings on a scale of 0.5 to 5 in 0.5 step increments. The dataset has been reduced in size to focus on movies from the years since 2000 and popular genres. The reduced dataset has  𝑛𝑢=397 users,  𝑛𝑚=847 movies and 25521 ratings.\n",
        "For each movie, the dataset provides a movie title, release date, and one or more genres. For example \"Lord of the Rings: The Two Towers\" was released in 2002 and has two genres: \"Adventure|Fantasy\". This dataset contains little information about users other than their ratings.\n",
        "\n",
        "<br></br>\n",
        "#### Training data\n",
        "**Movie content** includes original features like the release year and a ***one-hot encoded vector*** for 14 genres, along with an ***engineered feature***: the average user rating.\n",
        "\n",
        "**User content:** consists of ***engineered features***, including average ratings per genre, a user ID, rating count, and rating average (some of these are not used in training or predictions but are helpful for data interpretation).\n",
        "\n",
        "**Note:** The training set comprises all user ratings, with some repeated to balance underrepresented genres. This set is split into two arrays: one for users and one for movies/items.\n",
        "\n",
        "\n",
        "**Target y:**  Is the movie rating given by the user.\n",
        "\n",
        "In the example shown below a user with id 2 rated a movie with id 6874 with a value of 4/5\n",
        "\n",
        "<br></br>\n",
        "#### Scaling the training data\n",
        "\n",
        "**Feature scaling** is crucial for improving convergence in machine learning.\n",
        "\n",
        "- **Input features** are scaled using the ***StandardScaler from scikit-learn***, which standardizes them by removing the mean and scaling to unit variance.\n",
        "- **Target ratings**, a Min-Max Scaler is used to transform values to a range between -1 and 1. This dual scaling approach enhances model learning and stability during training.\n",
        "\n",
        "<br></br>\n",
        "#### Splitting the data into training and test sets\n",
        "\n",
        " Making use of *sklean train_test_split* to **split and shuffle** the data. Note that setting the initial random state to the same value ensures ***item, user, and y are shuffled identically*** (to maintain the correct correspondence between them)."
      ],
      "metadata": {
        "id": "z_1A4qgmG9Zc"
      }
    },
    {
      "cell_type": "code",
      "source": [
        "## Auxiliary functions\n",
        "\n",
        "def load_data():\n",
        "    item_train = genfromtxt('./content_item_train.csv', delimiter=',')\n",
        "    user_train = genfromtxt('./content_user_train.csv', delimiter=',')\n",
        "    y_train    = genfromtxt('./content_y_train.csv', delimiter=',')\n",
        "    with open('./content_item_train_header.txt', newline='') as f:    #csv reader handles quoted strings better\n",
        "        item_features = list(csv.reader(f))[0]\n",
        "    with open('./content_user_train_header.txt', newline='') as f:\n",
        "        user_features = list(csv.reader(f))[0]\n",
        "    item_vecs = genfromtxt('./content_item_vecs.csv', delimiter=',')\n",
        "\n",
        "    movie_dict = defaultdict(dict)\n",
        "    count = 0\n",
        "    with open('./content_movie_list.csv', newline='') as csvfile:\n",
        "        reader = csv.reader(csvfile, delimiter=',', quotechar='\"')\n",
        "        for line in reader:\n",
        "            if count == 0:\n",
        "                count += 1  #skip header\n",
        "                #print(line) print\n",
        "            else:\n",
        "                count += 1\n",
        "                movie_id = int(line[0])\n",
        "                movie_dict[movie_id][\"title\"] = line[1]\n",
        "                movie_dict[movie_id][\"genres\"] = line[2]\n",
        "\n",
        "    with open('./content_user_to_genre.pickle', 'rb') as f:\n",
        "        user_to_genre = pickle.load(f)\n",
        "\n",
        "    return(item_train, user_train, y_train, item_features, user_features, item_vecs, movie_dict, user_to_genre)\n",
        "\n",
        "\n",
        "def pprint_manual_train(x_train, features, maxcount=5, show_id=True):\n",
        "    # Start building the HTML table\n",
        "    html = \"<table style='border-collapse: collapse; width: 90%;'>\"\n",
        "    html += \"<thead><tr>\"\n",
        "\n",
        "    # Create table headers, optionally excluding the ID\n",
        "    if not show_id:\n",
        "        headers = features[1:]  # Skip the first feature (ID)\n",
        "    else:\n",
        "        headers = features  # Include all features\n",
        "\n",
        "    for feature in headers:\n",
        "        html += f\"<th style='border: 1px solid black; padding: 4px;'>{feature}</th>\"\n",
        "    html += \"</tr></thead><tbody>\"\n",
        "\n",
        "    # Fill in the rows of the table\n",
        "    for i in range(min(maxcount, x_train.shape[0])):\n",
        "        html += \"<tr>\"\n",
        "        for j, value in enumerate(x_train[i]):\n",
        "            # Skip the ID column if show_id is False\n",
        "            if j == 0 and not show_id:\n",
        "                continue  # Skip ID column\n",
        "\n",
        "            # Format the first column (if ID is shown) as an integer\n",
        "            if j == 0:\n",
        "                html += f\"<td style='border: 1px solid black; padding: 4px; text-align: center;'>{int(value)}</td>\"\n",
        "            else:\n",
        "                html += f\"<td style='border: 1px solid black; padding: 4px; text-align: center;'>{value}</td>\"\n",
        "        html += \"</tr>\"\n",
        "\n",
        "    html += \"</tbody></table>\"\n",
        "    return html\n",
        "\n",
        "def print_pred_movies(y_p, item, movie_dict, maxcount=10):\n",
        "    \"\"\"Print results of prediction of a new user. Inputs are expected to be in\n",
        "    sorted order, unscaled.\"\"\"\n",
        "\n",
        "    # Start building the HTML table\n",
        "    html = \"<table style='border-collapse: collapse; width: 90%;'>\"\n",
        "    html += \"<thead><tr>\"\n",
        "\n",
        "    # Create table headers\n",
        "    headers = [\"Predicted Rating\", \"Movie ID\", \"Average Rating\", \"Title\", \"Genres\"]\n",
        "    for header in headers:\n",
        "        html += f\"<th style='border: 1px solid black; padding: 4px;'>{header}</th>\"\n",
        "    html += \"</tr></thead><tbody>\"\n",
        "\n",
        "    # Fill in the rows of the table\n",
        "    count = 0\n",
        "    for i in range(0, y_p.shape[0]):\n",
        "        if count == maxcount:\n",
        "            break\n",
        "        count += 1\n",
        "        movie_id = item[i, 0].astype(int)\n",
        "        html += \"<tr>\"\n",
        "        html += f\"<td style='border: 1px solid black; padding: 4px; text-align: center;'>{np.around(y_p[i, 0], 1)}</td>\"\n",
        "        html += f\"<td style='border: 1px solid black; padding: 4px; text-align: center;'>{movie_id}</td>\"\n",
        "        html += f\"<td style='border: 1px solid black; padding: 4px; text-align: center;'>{np.around(item[i, 2].astype(float), 1)}</td>\"\n",
        "        html += f\"<td style='border: 1px solid black; padding: 4px; text-align: center;'>{movie_dict[movie_id]['title']}</td>\"\n",
        "        html += f\"<td style='border: 1px solid black; padding: 4px; text-align: center;'>{movie_dict[movie_id]['genres']}</td>\"\n",
        "        html += \"</tr>\"\n",
        "\n",
        "    html += \"</tbody></table>\"\n",
        "    return html\n",
        "\n",
        "def gen_user_vecs(user_vec, num_items):\n",
        "    \"\"\" given a user vector this function creates a matrix of user vectors that can be used to match user preferences against multiple items.\"\"\"\n",
        "    user_vecs = np.tile(user_vec, (num_items, 1)) # It repeats user_vec num_items times along the first dimension (rows), while keeping the second dimension (columns) unchanged\n",
        "    return user_vecs\n",
        "\n",
        "def get_user_vecs(user_id, user_train, item_vecs, user_to_genre):\n",
        "    \"\"\" given a user_id, return:\n",
        "        user train/predict matrix to match the size of item_vecs\n",
        "        y vector with ratings for all rated movies and 0 for others of size item_vecs \"\"\"\n",
        "\n",
        "    if not user_id in user_to_genre:\n",
        "        print(\"error: unknown user id\")\n",
        "        return None\n",
        "    else:\n",
        "        user_vec_found = False\n",
        "        for i in range(len(user_train)):\n",
        "            if user_train[i, 0] == user_id:\n",
        "                user_vec = user_train[i]\n",
        "                user_vec_found = True\n",
        "                break\n",
        "        if not user_vec_found:\n",
        "            print(\"error in get_user_vecs, did not find uid in user_train\")\n",
        "        num_items = len(item_vecs)\n",
        "        user_vecs = np.tile(user_vec, (num_items, 1))\n",
        "\n",
        "        y = np.zeros(num_items)\n",
        "        for i in range(num_items):  # walk through movies in item_vecs and get the movies, see if user has rated them\n",
        "            movie_id = item_vecs[i, 0]\n",
        "            if movie_id in user_to_genre[user_id]['movies']:\n",
        "                rating = user_to_genre[user_id]['movies'][movie_id]\n",
        "            else:\n",
        "                rating = 0\n",
        "            y[i] = rating\n",
        "    return(user_vecs, y)\n",
        "\n",
        "def print_existing_user(y_p, y, user, items, ivs, uvs, movie_dict, maxcount=10):\n",
        "    \"\"\"Print results of prediction for an existing user. Inputs are expected to be in sorted order, unscaled.\"\"\"\n",
        "\n",
        "    # Start building the HTML table\n",
        "    html = \"<table style='border-collapse: collapse; width: 90%;'>\"\n",
        "    html += \"<thead><tr>\"\n",
        "\n",
        "    # Define table headers\n",
        "    headers = [\"Predicted Rating\", \"Actual Rating\", \"User ID\", \"User Genre Avg\", \"Movie Rating Avg\", \"Movie ID\", \"Title\", \"Genres\"]\n",
        "    for header in headers:\n",
        "        html += f\"<th style='border: 1px solid black; padding: 4px;'>{header}</th>\"\n",
        "    html += \"</tr></thead><tbody>\"\n",
        "\n",
        "    count = 0\n",
        "    for i in range(y.shape[0]):\n",
        "        if y[i, 0] != 0:  # Skip if not rated\n",
        "            if count == maxcount:\n",
        "                break\n",
        "            count += 1\n",
        "            movie_id = items[i, 0].astype(int)\n",
        "\n",
        "            # Get the user's genre average for rated genres\n",
        "            offsets = np.nonzero(items[i, ivs:] == 1)[0]\n",
        "            genre_ratings = user[i, uvs + offsets]\n",
        "            genre_ratings_str = \", \".join([f\"{rating:.1f}\" for rating in genre_ratings])\n",
        "\n",
        "            # Add a row with data for each rated movie\n",
        "            html += \"<tr>\"\n",
        "            html += f\"<td style='border: 1px solid black; padding: 4px; text-align: center;'>{y_p[i, 0]:.1f}</td>\"\n",
        "            html += f\"<td style='border: 1px solid black; padding: 4px; text-align: center;'>{y[i, 0]:.1f}</td>\"\n",
        "            html += f\"<td style='border: 1px solid black; padding: 4px; text-align: center;'>{int(user[i, 0])}</td>\"\n",
        "            html += f\"<td style='border: 1px solid black; padding: 4px; text-align: center;'>{genre_ratings_str}</td>\"\n",
        "            html += f\"<td style='border: 1px solid black; padding: 4px; text-align: center;'>{items[i, 2]:.1f}</td>\"\n",
        "            html += f\"<td style='border: 1px solid black; padding: 4px; text-align: center;'>{movie_id}</td>\"\n",
        "            html += f\"<td style='border: 1px solid black; padding: 4px; text-align: center;'>{movie_dict[movie_id]['title']}</td>\"\n",
        "            html += f\"<td style='border: 1px solid black; padding: 4px; text-align: center;'>{movie_dict[movie_id]['genres']}</td>\"\n",
        "            html += \"</tr>\"\n",
        "\n",
        "    html += \"</tbody></table>\"\n",
        "    return html\n",
        "\n"
      ],
      "metadata": {
        "id": "rfsaF2oityaI"
      },
      "execution_count": null,
      "outputs": []
    },
    {
      "cell_type": "code",
      "source": [
        "# Load Data, set configuration variables\n",
        "item_train, user_train, y_train, item_features, user_features, item_vecs, movie_dict, user_to_genre = load_data()\n",
        "\n",
        "num_user_features = user_train.shape[1] - 3  # remove userid, rating count and ave rating during training\n",
        "num_item_features = item_train.shape[1] - 1  # remove movie id at train time\n",
        "print(f\"Number of user features: {num_user_features}\")\n",
        "print(f\"Number of item features: {num_item_features}\")\n",
        "print(f\"Number of training vectors: {len(item_train)}\")\n"
      ],
      "metadata": {
        "colab": {
          "base_uri": "https://localhost:8080/"
        },
        "id": "TGp4pg8m2AEv",
        "outputId": "c4a2bfe2-3932-4514-f3ba-30858ab96c54"
      },
      "execution_count": null,
      "outputs": [
        {
          "output_type": "stream",
          "name": "stdout",
          "text": [
            "Number of user features: 14\n",
            "Number of item features: 16\n",
            "Number of training vectors: 50884\n"
          ]
        }
      ]
    },
    {
      "cell_type": "code",
      "source": [
        "#First row of user_train data\n",
        "display(HTML(pprint_manual_train(user_train, user_features, maxcount=1)))\n",
        "\n",
        "#First row of item_train data\n",
        "display(HTML(pprint_manual_train(item_train, item_features, maxcount=1)))\n",
        "\n",
        "#Target of that (user,item) pair\n",
        "print(f\"y_train[:1]: {y_train[:1]}\")\n",
        "\n"
      ],
      "metadata": {
        "colab": {
          "base_uri": "https://localhost:8080/",
          "height": 143
        },
        "id": "tjkxUGH9GTov",
        "outputId": "fe79bee3-c10c-4588-f9ca-45bd90383db6"
      },
      "execution_count": null,
      "outputs": [
        {
          "output_type": "display_data",
          "data": {
            "text/plain": [
              "<IPython.core.display.HTML object>"
            ],
            "text/html": [
              "<table style='border-collapse: collapse; width: 90%;'><thead><tr><th style='border: 1px solid black; padding: 4px;'>user id</th><th style='border: 1px solid black; padding: 4px;'>rating count</th><th style='border: 1px solid black; padding: 4px;'>rating ave</th><th style='border: 1px solid black; padding: 4px;'>Action</th><th style='border: 1px solid black; padding: 4px;'>Adventure</th><th style='border: 1px solid black; padding: 4px;'>Animation</th><th style='border: 1px solid black; padding: 4px;'>Children</th><th style='border: 1px solid black; padding: 4px;'>Comedy</th><th style='border: 1px solid black; padding: 4px;'>Crime</th><th style='border: 1px solid black; padding: 4px;'>Documentary</th><th style='border: 1px solid black; padding: 4px;'>Drama</th><th style='border: 1px solid black; padding: 4px;'>Fantasy</th><th style='border: 1px solid black; padding: 4px;'>Horror</th><th style='border: 1px solid black; padding: 4px;'>Mystery</th><th style='border: 1px solid black; padding: 4px;'>Romance</th><th style='border: 1px solid black; padding: 4px;'>Sci-Fi</th><th style='border: 1px solid black; padding: 4px;'>Thriller</th></tr></thead><tbody><tr><td style='border: 1px solid black; padding: 4px; text-align: center;'>2</td><td style='border: 1px solid black; padding: 4px; text-align: center;'>22.0</td><td style='border: 1px solid black; padding: 4px; text-align: center;'>4.0</td><td style='border: 1px solid black; padding: 4px; text-align: center;'>3.95</td><td style='border: 1px solid black; padding: 4px; text-align: center;'>4.25</td><td style='border: 1px solid black; padding: 4px; text-align: center;'>0.0</td><td style='border: 1px solid black; padding: 4px; text-align: center;'>0.0</td><td style='border: 1px solid black; padding: 4px; text-align: center;'>4.0</td><td style='border: 1px solid black; padding: 4px; text-align: center;'>4.12</td><td style='border: 1px solid black; padding: 4px; text-align: center;'>4.0</td><td style='border: 1px solid black; padding: 4px; text-align: center;'>4.04</td><td style='border: 1px solid black; padding: 4px; text-align: center;'>0.0</td><td style='border: 1px solid black; padding: 4px; text-align: center;'>3.0</td><td style='border: 1px solid black; padding: 4px; text-align: center;'>4.0</td><td style='border: 1px solid black; padding: 4px; text-align: center;'>0.0</td><td style='border: 1px solid black; padding: 4px; text-align: center;'>3.88</td><td style='border: 1px solid black; padding: 4px; text-align: center;'>3.89</td></tr></tbody></table>"
            ]
          },
          "metadata": {}
        },
        {
          "output_type": "display_data",
          "data": {
            "text/plain": [
              "<IPython.core.display.HTML object>"
            ],
            "text/html": [
              "<table style='border-collapse: collapse; width: 90%;'><thead><tr><th style='border: 1px solid black; padding: 4px;'>movie id</th><th style='border: 1px solid black; padding: 4px;'>year</th><th style='border: 1px solid black; padding: 4px;'>ave rating</th><th style='border: 1px solid black; padding: 4px;'>Action</th><th style='border: 1px solid black; padding: 4px;'>Adventure</th><th style='border: 1px solid black; padding: 4px;'>Animation</th><th style='border: 1px solid black; padding: 4px;'>Children</th><th style='border: 1px solid black; padding: 4px;'>Comedy</th><th style='border: 1px solid black; padding: 4px;'>Crime</th><th style='border: 1px solid black; padding: 4px;'>Documentary</th><th style='border: 1px solid black; padding: 4px;'>Drama</th><th style='border: 1px solid black; padding: 4px;'>Fantasy</th><th style='border: 1px solid black; padding: 4px;'>Horror</th><th style='border: 1px solid black; padding: 4px;'>Mystery</th><th style='border: 1px solid black; padding: 4px;'>Romance</th><th style='border: 1px solid black; padding: 4px;'>Sci-Fi</th><th style='border: 1px solid black; padding: 4px;'>Thriller</th></tr></thead><tbody><tr><td style='border: 1px solid black; padding: 4px; text-align: center;'>6874</td><td style='border: 1px solid black; padding: 4px; text-align: center;'>2003.0</td><td style='border: 1px solid black; padding: 4px; text-align: center;'>3.9618320610687023</td><td style='border: 1px solid black; padding: 4px; text-align: center;'>1.0</td><td style='border: 1px solid black; padding: 4px; text-align: center;'>0.0</td><td style='border: 1px solid black; padding: 4px; text-align: center;'>0.0</td><td style='border: 1px solid black; padding: 4px; text-align: center;'>0.0</td><td style='border: 1px solid black; padding: 4px; text-align: center;'>0.0</td><td style='border: 1px solid black; padding: 4px; text-align: center;'>1.0</td><td style='border: 1px solid black; padding: 4px; text-align: center;'>0.0</td><td style='border: 1px solid black; padding: 4px; text-align: center;'>0.0</td><td style='border: 1px solid black; padding: 4px; text-align: center;'>0.0</td><td style='border: 1px solid black; padding: 4px; text-align: center;'>0.0</td><td style='border: 1px solid black; padding: 4px; text-align: center;'>0.0</td><td style='border: 1px solid black; padding: 4px; text-align: center;'>0.0</td><td style='border: 1px solid black; padding: 4px; text-align: center;'>0.0</td><td style='border: 1px solid black; padding: 4px; text-align: center;'>1.0</td></tr></tbody></table>"
            ]
          },
          "metadata": {}
        },
        {
          "output_type": "stream",
          "name": "stdout",
          "text": [
            "y_train[:1]: [4.]\n"
          ]
        }
      ]
    },
    {
      "cell_type": "code",
      "source": [
        "# scale training data\n",
        "item_train_unscaled = item_train\n",
        "user_train_unscaled = user_train\n",
        "y_train_unscaled    = y_train\n",
        "\n",
        "scalerItem = StandardScaler()\n",
        "scalerItem.fit(item_train)\n",
        "item_train = scalerItem.transform(item_train)\n",
        "\n",
        "scalerUser = StandardScaler()\n",
        "scalerUser.fit(user_train)\n",
        "user_train = scalerUser.transform(user_train)\n",
        "\n",
        "scalerTarget = MinMaxScaler((-1, 1))\n",
        "scalerTarget.fit(y_train.reshape(-1, 1))\n",
        "y_train = scalerTarget.transform(y_train.reshape(-1, 1))\n",
        "#ynorm_test = scalerTarget.transform(y_test.reshape(-1, 1))\n",
        "\n",
        "# Check scaling doing the inverse\n",
        "print(np.allclose(item_train_unscaled, scalerItem.inverse_transform(item_train)))\n",
        "print(np.allclose(user_train_unscaled, scalerUser.inverse_transform(user_train)))"
      ],
      "metadata": {
        "colab": {
          "base_uri": "https://localhost:8080/"
        },
        "id": "40o1pacLJciB",
        "outputId": "8c0a0654-8449-4fcc-9bab-b362edb631db"
      },
      "execution_count": null,
      "outputs": [
        {
          "output_type": "stream",
          "name": "stdout",
          "text": [
            "True\n",
            "True\n"
          ]
        }
      ]
    },
    {
      "cell_type": "code",
      "source": [
        "item_train, item_test = train_test_split(item_train, train_size=0.80, shuffle=True, random_state=1)\n",
        "user_train, user_test = train_test_split(user_train, train_size=0.80, shuffle=True, random_state=1)\n",
        "y_train, y_test       = train_test_split(y_train,    train_size=0.80, shuffle=True, random_state=1)\n",
        "print(f\"movie/item training data shape: {item_train.shape}\")\n",
        "print(f\"movie/item test data shape: {item_test.shape}\")\n",
        "\n",
        "#Show scaled data\n",
        "display(HTML(pprint_manual_train(user_train, user_features, maxcount=1, show_id=False)))"
      ],
      "metadata": {
        "colab": {
          "base_uri": "https://localhost:8080/",
          "height": 128
        },
        "id": "pRMkoaMcJqzL",
        "outputId": "d8c6d686-1050-43f9-adb3-975d7484dfb5"
      },
      "execution_count": null,
      "outputs": [
        {
          "output_type": "stream",
          "name": "stdout",
          "text": [
            "movie/item training data shape: (40707, 17)\n",
            "movie/item test data shape: (10177, 17)\n"
          ]
        },
        {
          "output_type": "display_data",
          "data": {
            "text/plain": [
              "<IPython.core.display.HTML object>"
            ],
            "text/html": [
              "<table style='border-collapse: collapse; width: 90%;'><thead><tr><th style='border: 1px solid black; padding: 4px;'>rating count</th><th style='border: 1px solid black; padding: 4px;'>rating ave</th><th style='border: 1px solid black; padding: 4px;'>Action</th><th style='border: 1px solid black; padding: 4px;'>Adventure</th><th style='border: 1px solid black; padding: 4px;'>Animation</th><th style='border: 1px solid black; padding: 4px;'>Children</th><th style='border: 1px solid black; padding: 4px;'>Comedy</th><th style='border: 1px solid black; padding: 4px;'>Crime</th><th style='border: 1px solid black; padding: 4px;'>Documentary</th><th style='border: 1px solid black; padding: 4px;'>Drama</th><th style='border: 1px solid black; padding: 4px;'>Fantasy</th><th style='border: 1px solid black; padding: 4px;'>Horror</th><th style='border: 1px solid black; padding: 4px;'>Mystery</th><th style='border: 1px solid black; padding: 4px;'>Romance</th><th style='border: 1px solid black; padding: 4px;'>Sci-Fi</th><th style='border: 1px solid black; padding: 4px;'>Thriller</th></tr></thead><tbody><tr><td style='border: 1px solid black; padding: 4px; text-align: center;'>-0.08215785885328317</td><td style='border: 1px solid black; padding: 4px; text-align: center;'>-0.9734314607219017</td><td style='border: 1px solid black; padding: 4px; text-align: center;'>-0.7500437305379585</td><td style='border: 1px solid black; padding: 4px; text-align: center;'>-0.7120370523253821</td><td style='border: 1px solid black; padding: 4px; text-align: center;'>0.05445529412024235</td><td style='border: 1px solid black; padding: 4px; text-align: center;'>-0.04865804661767292</td><td style='border: 1px solid black; padding: 4px; text-align: center;'>-1.2007356134851437</td><td style='border: 1px solid black; padding: 4px; text-align: center;'>-0.413507997185553</td><td style='border: 1px solid black; padding: 4px; text-align: center;'>0.638343600863053</td><td style='border: 1px solid black; padding: 4px; text-align: center;'>-0.5454291584413995</td><td style='border: 1px solid black; padding: 4px; text-align: center;'>-0.46527409254920354</td><td style='border: 1px solid black; padding: 4px; text-align: center;'>-0.06303745148120246</td><td style='border: 1px solid black; padding: 4px; text-align: center;'>-0.5693510969927813</td><td style='border: 1px solid black; padding: 4px; text-align: center;'>-0.6377189361688048</td><td style='border: 1px solid black; padding: 4px; text-align: center;'>-0.6547691297657673</td><td style='border: 1px solid black; padding: 4px; text-align: center;'>-0.7338245274481356</td></tr></tbody></table>"
            ]
          },
          "metadata": {}
        }
      ]
    },
    {
      "cell_type": "markdown",
      "source": [
        "### Neural Networks for content-based filtering\n",
        "\n",
        "#### Architecture for both Neural Networks\n",
        "- First Layer: A dense layer with 256 units and a ReLU activation function. This layer introduces non-linearity to the model, enabling it to learn complex patterns in the input data.\n",
        "\n",
        "- Second Layer: A dense layer with 128 units and a ReLU activation function. Similar to the first layer, this layer continues to build non-linear representations of the data.\n",
        "\n",
        "- Third Layer: A dense layer with num_outputs units, using a linear activation function. This layer produces the final output of the network, suitable for regression tasks where the output can take any real value.\n",
        "\n",
        "- Normalization Layer: The output of the second layer is passed through a Lambda layer that applies L2 normalization. This process ensures that the output vectors from both the user and item networks have a unit norm, helping to stabilize training and improve convergence by controlling the scale of the outputs.\n",
        "\n",
        "- Loss Function: The model uses Mean Squared Error (MSE) as the loss function. MSE measures the average squared difference between the predicted and actual values.\n",
        "\n",
        "- Optimizer: The model employs the Adam optimizer, a popular choice for training neural networks.\n",
        "\n",
        "\n",
        "Note: These networks do not need to be the same"
      ],
      "metadata": {
        "id": "nH1tgpBcLt0a"
      }
    },
    {
      "cell_type": "code",
      "source": [
        "num_outputs = 32\n",
        "tf.random.set_seed(1)\n",
        "\n",
        "user_NN = tf.keras.models.Sequential([\n",
        "    tf.keras.layers.Dense(256, activation='relu'),\n",
        "    tf.keras.layers.Dense(128, activation='relu'),\n",
        "    tf.keras.layers.Dense(num_outputs, activation='linear'),\n",
        "])\n",
        "\n",
        "item_NN = tf.keras.models.Sequential([\n",
        "    tf.keras.layers.Dense(256, activation='relu'),\n",
        "    tf.keras.layers.Dense(128, activation='relu'),\n",
        "    tf.keras.layers.Dense(num_outputs, activation='linear'),\n",
        "])\n",
        "\n",
        "# Create the user input and point to the base network\n",
        "input_user = tf.keras.layers.Input(shape=(num_user_features,))\n",
        "vu = user_NN(input_user)\n",
        "\n",
        "# Normalize using a Lambda layer\n",
        "vu = tf.keras.layers.Lambda(lambda x: tf.linalg.l2_normalize(x, axis=1))(vu)\n",
        "\n",
        "# Create the item input and point to the base network\n",
        "input_item = tf.keras.layers.Input(shape=(num_item_features,))\n",
        "vm = item_NN(input_item)\n",
        "\n",
        "# Normalize using a Lambda layer\n",
        "vm = tf.keras.layers.Lambda(lambda x: tf.linalg.l2_normalize(x, axis=1))(vm)\n",
        "\n",
        "# Compute the dot product of the two vectors vu and vm\n",
        "output = tf.keras.layers.Dot(axes=1)([vu, vm])\n",
        "\n",
        "# Specify the inputs and output of the model\n",
        "model = tf.keras.Model(inputs=[input_user, input_item], outputs=output)\n",
        "\n",
        "model.summary()\n"
      ],
      "metadata": {
        "colab": {
          "base_uri": "https://localhost:8080/",
          "height": 450
        },
        "id": "We2RnDSZLvhS",
        "outputId": "e4a65673-b596-4c5d-89a4-cced5fb50a5b"
      },
      "execution_count": null,
      "outputs": [
        {
          "output_type": "display_data",
          "data": {
            "text/plain": [
              "\u001b[1mModel: \"functional_10\"\u001b[0m\n"
            ],
            "text/html": [
              "<pre style=\"white-space:pre;overflow-x:auto;line-height:normal;font-family:Menlo,'DejaVu Sans Mono',consolas,'Courier New',monospace\"><span style=\"font-weight: bold\">Model: \"functional_10\"</span>\n",
              "</pre>\n"
            ]
          },
          "metadata": {}
        },
        {
          "output_type": "display_data",
          "data": {
            "text/plain": [
              "┏━━━━━━━━━━━━━━━━━━━━━━━━━━━┳━━━━━━━━━━━━━━━━━━━━━━━━┳━━━━━━━━━━━━━━━━┳━━━━━━━━━━━━━━━━━━━━━━━━┓\n",
              "┃\u001b[1m \u001b[0m\u001b[1mLayer (type)             \u001b[0m\u001b[1m \u001b[0m┃\u001b[1m \u001b[0m\u001b[1mOutput Shape          \u001b[0m\u001b[1m \u001b[0m┃\u001b[1m \u001b[0m\u001b[1m       Param #\u001b[0m\u001b[1m \u001b[0m┃\u001b[1m \u001b[0m\u001b[1mConnected to          \u001b[0m\u001b[1m \u001b[0m┃\n",
              "┡━━━━━━━━━━━━━━━━━━━━━━━━━━━╇━━━━━━━━━━━━━━━━━━━━━━━━╇━━━━━━━━━━━━━━━━╇━━━━━━━━━━━━━━━━━━━━━━━━┩\n",
              "│ input_layer_15            │ (\u001b[38;5;45mNone\u001b[0m, \u001b[38;5;34m14\u001b[0m)             │              \u001b[38;5;34m0\u001b[0m │ -                      │\n",
              "│ (\u001b[38;5;33mInputLayer\u001b[0m)              │                        │                │                        │\n",
              "├───────────────────────────┼────────────────────────┼────────────────┼────────────────────────┤\n",
              "│ input_layer_17            │ (\u001b[38;5;45mNone\u001b[0m, \u001b[38;5;34m16\u001b[0m)             │              \u001b[38;5;34m0\u001b[0m │ -                      │\n",
              "│ (\u001b[38;5;33mInputLayer\u001b[0m)              │                        │                │                        │\n",
              "├───────────────────────────┼────────────────────────┼────────────────┼────────────────────────┤\n",
              "│ sequential_14             │ (\u001b[38;5;45mNone\u001b[0m, \u001b[38;5;34m32\u001b[0m)             │         \u001b[38;5;34m40,864\u001b[0m │ input_layer_15[\u001b[38;5;34m0\u001b[0m][\u001b[38;5;34m0\u001b[0m]   │\n",
              "│ (\u001b[38;5;33mSequential\u001b[0m)              │                        │                │                        │\n",
              "├───────────────────────────┼────────────────────────┼────────────────┼────────────────────────┤\n",
              "│ sequential_15             │ (\u001b[38;5;45mNone\u001b[0m, \u001b[38;5;34m32\u001b[0m)             │         \u001b[38;5;34m41,376\u001b[0m │ input_layer_17[\u001b[38;5;34m0\u001b[0m][\u001b[38;5;34m0\u001b[0m]   │\n",
              "│ (\u001b[38;5;33mSequential\u001b[0m)              │                        │                │                        │\n",
              "├───────────────────────────┼────────────────────────┼────────────────┼────────────────────────┤\n",
              "│ lambda_4 (\u001b[38;5;33mLambda\u001b[0m)         │ (\u001b[38;5;45mNone\u001b[0m, \u001b[38;5;34m32\u001b[0m)             │              \u001b[38;5;34m0\u001b[0m │ sequential_14[\u001b[38;5;34m0\u001b[0m][\u001b[38;5;34m0\u001b[0m]    │\n",
              "├───────────────────────────┼────────────────────────┼────────────────┼────────────────────────┤\n",
              "│ lambda_5 (\u001b[38;5;33mLambda\u001b[0m)         │ (\u001b[38;5;45mNone\u001b[0m, \u001b[38;5;34m32\u001b[0m)             │              \u001b[38;5;34m0\u001b[0m │ sequential_15[\u001b[38;5;34m0\u001b[0m][\u001b[38;5;34m0\u001b[0m]    │\n",
              "├───────────────────────────┼────────────────────────┼────────────────┼────────────────────────┤\n",
              "│ dot_2 (\u001b[38;5;33mDot\u001b[0m)               │ (\u001b[38;5;45mNone\u001b[0m, \u001b[38;5;34m1\u001b[0m)              │              \u001b[38;5;34m0\u001b[0m │ lambda_4[\u001b[38;5;34m0\u001b[0m][\u001b[38;5;34m0\u001b[0m],        │\n",
              "│                           │                        │                │ lambda_5[\u001b[38;5;34m0\u001b[0m][\u001b[38;5;34m0\u001b[0m]         │\n",
              "└───────────────────────────┴────────────────────────┴────────────────┴────────────────────────┘\n"
            ],
            "text/html": [
              "<pre style=\"white-space:pre;overflow-x:auto;line-height:normal;font-family:Menlo,'DejaVu Sans Mono',consolas,'Courier New',monospace\">┏━━━━━━━━━━━━━━━━━━━━━━━━━━━┳━━━━━━━━━━━━━━━━━━━━━━━━┳━━━━━━━━━━━━━━━━┳━━━━━━━━━━━━━━━━━━━━━━━━┓\n",
              "┃<span style=\"font-weight: bold\"> Layer (type)              </span>┃<span style=\"font-weight: bold\"> Output Shape           </span>┃<span style=\"font-weight: bold\">        Param # </span>┃<span style=\"font-weight: bold\"> Connected to           </span>┃\n",
              "┡━━━━━━━━━━━━━━━━━━━━━━━━━━━╇━━━━━━━━━━━━━━━━━━━━━━━━╇━━━━━━━━━━━━━━━━╇━━━━━━━━━━━━━━━━━━━━━━━━┩\n",
              "│ input_layer_15            │ (<span style=\"color: #00d7ff; text-decoration-color: #00d7ff\">None</span>, <span style=\"color: #00af00; text-decoration-color: #00af00\">14</span>)             │              <span style=\"color: #00af00; text-decoration-color: #00af00\">0</span> │ -                      │\n",
              "│ (<span style=\"color: #0087ff; text-decoration-color: #0087ff\">InputLayer</span>)              │                        │                │                        │\n",
              "├───────────────────────────┼────────────────────────┼────────────────┼────────────────────────┤\n",
              "│ input_layer_17            │ (<span style=\"color: #00d7ff; text-decoration-color: #00d7ff\">None</span>, <span style=\"color: #00af00; text-decoration-color: #00af00\">16</span>)             │              <span style=\"color: #00af00; text-decoration-color: #00af00\">0</span> │ -                      │\n",
              "│ (<span style=\"color: #0087ff; text-decoration-color: #0087ff\">InputLayer</span>)              │                        │                │                        │\n",
              "├───────────────────────────┼────────────────────────┼────────────────┼────────────────────────┤\n",
              "│ sequential_14             │ (<span style=\"color: #00d7ff; text-decoration-color: #00d7ff\">None</span>, <span style=\"color: #00af00; text-decoration-color: #00af00\">32</span>)             │         <span style=\"color: #00af00; text-decoration-color: #00af00\">40,864</span> │ input_layer_15[<span style=\"color: #00af00; text-decoration-color: #00af00\">0</span>][<span style=\"color: #00af00; text-decoration-color: #00af00\">0</span>]   │\n",
              "│ (<span style=\"color: #0087ff; text-decoration-color: #0087ff\">Sequential</span>)              │                        │                │                        │\n",
              "├───────────────────────────┼────────────────────────┼────────────────┼────────────────────────┤\n",
              "│ sequential_15             │ (<span style=\"color: #00d7ff; text-decoration-color: #00d7ff\">None</span>, <span style=\"color: #00af00; text-decoration-color: #00af00\">32</span>)             │         <span style=\"color: #00af00; text-decoration-color: #00af00\">41,376</span> │ input_layer_17[<span style=\"color: #00af00; text-decoration-color: #00af00\">0</span>][<span style=\"color: #00af00; text-decoration-color: #00af00\">0</span>]   │\n",
              "│ (<span style=\"color: #0087ff; text-decoration-color: #0087ff\">Sequential</span>)              │                        │                │                        │\n",
              "├───────────────────────────┼────────────────────────┼────────────────┼────────────────────────┤\n",
              "│ lambda_4 (<span style=\"color: #0087ff; text-decoration-color: #0087ff\">Lambda</span>)         │ (<span style=\"color: #00d7ff; text-decoration-color: #00d7ff\">None</span>, <span style=\"color: #00af00; text-decoration-color: #00af00\">32</span>)             │              <span style=\"color: #00af00; text-decoration-color: #00af00\">0</span> │ sequential_14[<span style=\"color: #00af00; text-decoration-color: #00af00\">0</span>][<span style=\"color: #00af00; text-decoration-color: #00af00\">0</span>]    │\n",
              "├───────────────────────────┼────────────────────────┼────────────────┼────────────────────────┤\n",
              "│ lambda_5 (<span style=\"color: #0087ff; text-decoration-color: #0087ff\">Lambda</span>)         │ (<span style=\"color: #00d7ff; text-decoration-color: #00d7ff\">None</span>, <span style=\"color: #00af00; text-decoration-color: #00af00\">32</span>)             │              <span style=\"color: #00af00; text-decoration-color: #00af00\">0</span> │ sequential_15[<span style=\"color: #00af00; text-decoration-color: #00af00\">0</span>][<span style=\"color: #00af00; text-decoration-color: #00af00\">0</span>]    │\n",
              "├───────────────────────────┼────────────────────────┼────────────────┼────────────────────────┤\n",
              "│ dot_2 (<span style=\"color: #0087ff; text-decoration-color: #0087ff\">Dot</span>)               │ (<span style=\"color: #00d7ff; text-decoration-color: #00d7ff\">None</span>, <span style=\"color: #00af00; text-decoration-color: #00af00\">1</span>)              │              <span style=\"color: #00af00; text-decoration-color: #00af00\">0</span> │ lambda_4[<span style=\"color: #00af00; text-decoration-color: #00af00\">0</span>][<span style=\"color: #00af00; text-decoration-color: #00af00\">0</span>],        │\n",
              "│                           │                        │                │ lambda_5[<span style=\"color: #00af00; text-decoration-color: #00af00\">0</span>][<span style=\"color: #00af00; text-decoration-color: #00af00\">0</span>]         │\n",
              "└───────────────────────────┴────────────────────────┴────────────────┴────────────────────────┘\n",
              "</pre>\n"
            ]
          },
          "metadata": {}
        },
        {
          "output_type": "display_data",
          "data": {
            "text/plain": [
              "\u001b[1m Total params: \u001b[0m\u001b[38;5;34m82,240\u001b[0m (321.25 KB)\n"
            ],
            "text/html": [
              "<pre style=\"white-space:pre;overflow-x:auto;line-height:normal;font-family:Menlo,'DejaVu Sans Mono',consolas,'Courier New',monospace\"><span style=\"font-weight: bold\"> Total params: </span><span style=\"color: #00af00; text-decoration-color: #00af00\">82,240</span> (321.25 KB)\n",
              "</pre>\n"
            ]
          },
          "metadata": {}
        },
        {
          "output_type": "display_data",
          "data": {
            "text/plain": [
              "\u001b[1m Trainable params: \u001b[0m\u001b[38;5;34m82,240\u001b[0m (321.25 KB)\n"
            ],
            "text/html": [
              "<pre style=\"white-space:pre;overflow-x:auto;line-height:normal;font-family:Menlo,'DejaVu Sans Mono',consolas,'Courier New',monospace\"><span style=\"font-weight: bold\"> Trainable params: </span><span style=\"color: #00af00; text-decoration-color: #00af00\">82,240</span> (321.25 KB)\n",
              "</pre>\n"
            ]
          },
          "metadata": {}
        },
        {
          "output_type": "display_data",
          "data": {
            "text/plain": [
              "\u001b[1m Non-trainable params: \u001b[0m\u001b[38;5;34m0\u001b[0m (0.00 B)\n"
            ],
            "text/html": [
              "<pre style=\"white-space:pre;overflow-x:auto;line-height:normal;font-family:Menlo,'DejaVu Sans Mono',consolas,'Courier New',monospace\"><span style=\"font-weight: bold\"> Non-trainable params: </span><span style=\"color: #00af00; text-decoration-color: #00af00\">0</span> (0.00 B)\n",
              "</pre>\n"
            ]
          },
          "metadata": {}
        }
      ]
    },
    {
      "cell_type": "code",
      "source": [
        "# Compile and train the model\n",
        "\n",
        "tf.random.set_seed(1)\n",
        "cost_fn = tf.keras.losses.MeanSquaredError()\n",
        "opt = keras.optimizers.Adam(learning_rate=0.01)\n",
        "model.compile(optimizer=opt,\n",
        "              loss=cost_fn)\n",
        "\n",
        "tf.random.set_seed(1)\n",
        "\n",
        "u_s = 3  # start of columns to use in training, user (avoid id, rating count and rating average)\n",
        "i_s = 1  # start of columns to use in training, items (avoid id)\n",
        "\n",
        "model.fit([user_train[:, u_s:], item_train[:, i_s:]], y_train, epochs=30)"
      ],
      "metadata": {
        "colab": {
          "base_uri": "https://localhost:8080/"
        },
        "id": "Qpk92sdJPx20",
        "outputId": "fc1ffc21-a3ea-4504-eeb6-24e4179d45fc"
      },
      "execution_count": null,
      "outputs": [
        {
          "output_type": "stream",
          "name": "stdout",
          "text": [
            "Epoch 1/30\n",
            "\u001b[1m1273/1273\u001b[0m \u001b[32m━━━━━━━━━━━━━━━━━━━━\u001b[0m\u001b[37m\u001b[0m \u001b[1m7s\u001b[0m 4ms/step - loss: 0.1303\n",
            "Epoch 2/30\n",
            "\u001b[1m1273/1273\u001b[0m \u001b[32m━━━━━━━━━━━━━━━━━━━━\u001b[0m\u001b[37m\u001b[0m \u001b[1m4s\u001b[0m 3ms/step - loss: 0.1150\n",
            "Epoch 3/30\n",
            "\u001b[1m1273/1273\u001b[0m \u001b[32m━━━━━━━━━━━━━━━━━━━━\u001b[0m\u001b[37m\u001b[0m \u001b[1m7s\u001b[0m 4ms/step - loss: 0.1103\n",
            "Epoch 4/30\n",
            "\u001b[1m1273/1273\u001b[0m \u001b[32m━━━━━━━━━━━━━━━━━━━━\u001b[0m\u001b[37m\u001b[0m \u001b[1m12s\u001b[0m 5ms/step - loss: 0.1054\n",
            "Epoch 5/30\n",
            "\u001b[1m1273/1273\u001b[0m \u001b[32m━━━━━━━━━━━━━━━━━━━━\u001b[0m\u001b[37m\u001b[0m \u001b[1m8s\u001b[0m 6ms/step - loss: 0.1016\n",
            "Epoch 6/30\n",
            "\u001b[1m1273/1273\u001b[0m \u001b[32m━━━━━━━━━━━━━━━━━━━━\u001b[0m\u001b[37m\u001b[0m \u001b[1m4s\u001b[0m 3ms/step - loss: 0.0990\n",
            "Epoch 7/30\n",
            "\u001b[1m1273/1273\u001b[0m \u001b[32m━━━━━━━━━━━━━━━━━━━━\u001b[0m\u001b[37m\u001b[0m \u001b[1m5s\u001b[0m 4ms/step - loss: 0.0967\n",
            "Epoch 8/30\n",
            "\u001b[1m1273/1273\u001b[0m \u001b[32m━━━━━━━━━━━━━━━━━━━━\u001b[0m\u001b[37m\u001b[0m \u001b[1m4s\u001b[0m 3ms/step - loss: 0.0944\n",
            "Epoch 9/30\n",
            "\u001b[1m1273/1273\u001b[0m \u001b[32m━━━━━━━━━━━━━━━━━━━━\u001b[0m\u001b[37m\u001b[0m \u001b[1m4s\u001b[0m 3ms/step - loss: 0.0924\n",
            "Epoch 10/30\n",
            "\u001b[1m1273/1273\u001b[0m \u001b[32m━━━━━━━━━━━━━━━━━━━━\u001b[0m\u001b[37m\u001b[0m \u001b[1m5s\u001b[0m 4ms/step - loss: 0.0905\n",
            "Epoch 11/30\n",
            "\u001b[1m1273/1273\u001b[0m \u001b[32m━━━━━━━━━━━━━━━━━━━━\u001b[0m\u001b[37m\u001b[0m \u001b[1m4s\u001b[0m 3ms/step - loss: 0.0889\n",
            "Epoch 12/30\n",
            "\u001b[1m1273/1273\u001b[0m \u001b[32m━━━━━━━━━━━━━━━━━━━━\u001b[0m\u001b[37m\u001b[0m \u001b[1m4s\u001b[0m 3ms/step - loss: 0.0875\n",
            "Epoch 13/30\n",
            "\u001b[1m1273/1273\u001b[0m \u001b[32m━━━━━━━━━━━━━━━━━━━━\u001b[0m\u001b[37m\u001b[0m \u001b[1m7s\u001b[0m 4ms/step - loss: 0.0860\n",
            "Epoch 14/30\n",
            "\u001b[1m1273/1273\u001b[0m \u001b[32m━━━━━━━━━━━━━━━━━━━━\u001b[0m\u001b[37m\u001b[0m \u001b[1m4s\u001b[0m 3ms/step - loss: 0.0845\n",
            "Epoch 15/30\n",
            "\u001b[1m1273/1273\u001b[0m \u001b[32m━━━━━━━━━━━━━━━━━━━━\u001b[0m\u001b[37m\u001b[0m \u001b[1m4s\u001b[0m 3ms/step - loss: 0.0830\n",
            "Epoch 16/30\n",
            "\u001b[1m1273/1273\u001b[0m \u001b[32m━━━━━━━━━━━━━━━━━━━━\u001b[0m\u001b[37m\u001b[0m \u001b[1m5s\u001b[0m 4ms/step - loss: 0.0818\n",
            "Epoch 17/30\n",
            "\u001b[1m1273/1273\u001b[0m \u001b[32m━━━━━━━━━━━━━━━━━━━━\u001b[0m\u001b[37m\u001b[0m \u001b[1m5s\u001b[0m 4ms/step - loss: 0.0806\n",
            "Epoch 18/30\n",
            "\u001b[1m1273/1273\u001b[0m \u001b[32m━━━━━━━━━━━━━━━━━━━━\u001b[0m\u001b[37m\u001b[0m \u001b[1m4s\u001b[0m 3ms/step - loss: 0.0796\n",
            "Epoch 19/30\n",
            "\u001b[1m1273/1273\u001b[0m \u001b[32m━━━━━━━━━━━━━━━━━━━━\u001b[0m\u001b[37m\u001b[0m \u001b[1m4s\u001b[0m 3ms/step - loss: 0.0788\n",
            "Epoch 20/30\n",
            "\u001b[1m1273/1273\u001b[0m \u001b[32m━━━━━━━━━━━━━━━━━━━━\u001b[0m\u001b[37m\u001b[0m \u001b[1m5s\u001b[0m 4ms/step - loss: 0.0779\n",
            "Epoch 21/30\n",
            "\u001b[1m1273/1273\u001b[0m \u001b[32m━━━━━━━━━━━━━━━━━━━━\u001b[0m\u001b[37m\u001b[0m \u001b[1m4s\u001b[0m 3ms/step - loss: 0.0771\n",
            "Epoch 22/30\n",
            "\u001b[1m1273/1273\u001b[0m \u001b[32m━━━━━━━━━━━━━━━━━━━━\u001b[0m\u001b[37m\u001b[0m \u001b[1m5s\u001b[0m 4ms/step - loss: 0.0763\n",
            "Epoch 23/30\n",
            "\u001b[1m1273/1273\u001b[0m \u001b[32m━━━━━━━━━━━━━━━━━━━━\u001b[0m\u001b[37m\u001b[0m \u001b[1m5s\u001b[0m 4ms/step - loss: 0.0756\n",
            "Epoch 24/30\n",
            "\u001b[1m1273/1273\u001b[0m \u001b[32m━━━━━━━━━━━━━━━━━━━━\u001b[0m\u001b[37m\u001b[0m \u001b[1m4s\u001b[0m 3ms/step - loss: 0.0749\n",
            "Epoch 25/30\n",
            "\u001b[1m1273/1273\u001b[0m \u001b[32m━━━━━━━━━━━━━━━━━━━━\u001b[0m\u001b[37m\u001b[0m \u001b[1m4s\u001b[0m 3ms/step - loss: 0.0743\n",
            "Epoch 26/30\n",
            "\u001b[1m1273/1273\u001b[0m \u001b[32m━━━━━━━━━━━━━━━━━━━━\u001b[0m\u001b[37m\u001b[0m \u001b[1m6s\u001b[0m 4ms/step - loss: 0.0737\n",
            "Epoch 27/30\n",
            "\u001b[1m1273/1273\u001b[0m \u001b[32m━━━━━━━━━━━━━━━━━━━━\u001b[0m\u001b[37m\u001b[0m \u001b[1m4s\u001b[0m 3ms/step - loss: 0.0730\n",
            "Epoch 28/30\n",
            "\u001b[1m1273/1273\u001b[0m \u001b[32m━━━━━━━━━━━━━━━━━━━━\u001b[0m\u001b[37m\u001b[0m \u001b[1m4s\u001b[0m 3ms/step - loss: 0.0725\n",
            "Epoch 29/30\n",
            "\u001b[1m1273/1273\u001b[0m \u001b[32m━━━━━━━━━━━━━━━━━━━━\u001b[0m\u001b[37m\u001b[0m \u001b[1m6s\u001b[0m 4ms/step - loss: 0.0719\n",
            "Epoch 30/30\n",
            "\u001b[1m1273/1273\u001b[0m \u001b[32m━━━━━━━━━━━━━━━━━━━━\u001b[0m\u001b[37m\u001b[0m \u001b[1m4s\u001b[0m 3ms/step - loss: 0.0713\n"
          ]
        },
        {
          "output_type": "execute_result",
          "data": {
            "text/plain": [
              "<keras.src.callbacks.history.History at 0x7be4b9fc0c40>"
            ]
          },
          "metadata": {},
          "execution_count": 123
        }
      ]
    },
    {
      "cell_type": "code",
      "source": [
        "model.evaluate([user_test[:, u_s:], item_test[:, i_s:]], y_test)"
      ],
      "metadata": {
        "colab": {
          "base_uri": "https://localhost:8080/"
        },
        "id": "FNqP3Zz4R2aw",
        "outputId": "ce3e4132-ea60-470e-e18b-652c6bbd2d5d"
      },
      "execution_count": null,
      "outputs": [
        {
          "output_type": "stream",
          "name": "stdout",
          "text": [
            "\u001b[1m319/319\u001b[0m \u001b[32m━━━━━━━━━━━━━━━━━━━━\u001b[0m\u001b[37m\u001b[0m \u001b[1m1s\u001b[0m 1ms/step - loss: 0.0872\n"
          ]
        },
        {
          "output_type": "execute_result",
          "data": {
            "text/plain": [
              "0.08373275399208069"
            ]
          },
          "metadata": {},
          "execution_count": 124
        }
      ]
    },
    {
      "cell_type": "markdown",
      "source": [
        "### Predictions"
      ],
      "metadata": {
        "id": "QfdaUlB1SDG8"
      }
    },
    {
      "cell_type": "markdown",
      "source": [
        "#### 1) Predictions for a new user\n",
        "\n",
        "**A new user** will be created with the attributes below. This user prefers Adventure, Science Fiction, Fantasy and Action genres.\n",
        "\n",
        "**item_vecs** is a set of movie/item vectors, that has a vector for each movie in the training/test set.\n",
        "This is matched with the new user vector above and the ***scaled vectors*** are used to predict ratings for all the movies."
      ],
      "metadata": {
        "id": "6swrkV1DXMV4"
      }
    },
    {
      "cell_type": "code",
      "source": [
        "# Creation of new user with some values.\n",
        "\n",
        "new_user_id = 5000\n",
        "new_rating_ave = 0.0\n",
        "new_action = 3.0\n",
        "new_adventure = 5.0\n",
        "new_animation = 0.5\n",
        "new_childrens = 0.5\n",
        "new_comedy = 1.5\n",
        "new_crime = 1.5\n",
        "new_documentary = 0.5\n",
        "new_drama = 2.5\n",
        "new_fantasy = 5.0\n",
        "new_horror = 0.5\n",
        "new_mystery = 0.0\n",
        "new_romance = 0.0\n",
        "new_scifi = 5.0\n",
        "new_thriller = 1.0\n",
        "new_rating_count = 3\n",
        "\n",
        "user_vec = np.array([[new_user_id, new_rating_count, new_rating_ave,\n",
        "                      new_action, new_adventure, new_animation, new_childrens,\n",
        "                      new_comedy, new_crime, new_documentary,\n",
        "                      new_drama, new_fantasy, new_horror, new_mystery,\n",
        "                      new_romance, new_scifi, new_thriller]])\n",
        "\n",
        "# generate and replicate the user vector to match the number movies in the data set.\n",
        "user_vecs = gen_user_vecs(user_vec,len(item_vecs))\n",
        "\n",
        "# scale user and item vectors\n",
        "suser_vecs = scalerUser.transform(user_vecs)\n",
        "sitem_vecs = scalerItem.transform(item_vecs)\n",
        "\n",
        "# make a prediction\n",
        "y_p = model.predict([suser_vecs[:, u_s:], sitem_vecs[:, i_s:]])\n",
        "\n",
        "# unscale y prediction, in order to have the values for interpretation\n",
        "y_pu = scalerTarget.inverse_transform(y_p)\n",
        "\n",
        "# sort the results, highest prediction first\n",
        "sorted_index = np.argsort(-y_pu,axis=0).reshape(-1).tolist()  #negate to get largest rating first\n",
        "sorted_ypu   = y_pu[sorted_index]\n",
        "sorted_items = item_vecs[sorted_index]  #using unscaled vectors for display\n",
        "\n",
        "display(HTML(print_pred_movies(sorted_ypu, sorted_items, movie_dict, maxcount = 10)))"
      ],
      "metadata": {
        "colab": {
          "base_uri": "https://localhost:8080/",
          "height": 327
        },
        "id": "sFuiJZpDSRO4",
        "outputId": "ac490349-a6cd-4681-8e10-f5ca278f545b"
      },
      "execution_count": null,
      "outputs": [
        {
          "output_type": "stream",
          "name": "stdout",
          "text": [
            "\u001b[1m27/27\u001b[0m \u001b[32m━━━━━━━━━━━━━━━━━━━━\u001b[0m\u001b[37m\u001b[0m \u001b[1m0s\u001b[0m 5ms/step\n"
          ]
        },
        {
          "output_type": "display_data",
          "data": {
            "text/plain": [
              "<IPython.core.display.HTML object>"
            ],
            "text/html": [
              "<table style='border-collapse: collapse; width: 90%;'><thead><tr><th style='border: 1px solid black; padding: 4px;'>Predicted Rating</th><th style='border: 1px solid black; padding: 4px;'>Movie ID</th><th style='border: 1px solid black; padding: 4px;'>Average Rating</th><th style='border: 1px solid black; padding: 4px;'>Title</th><th style='border: 1px solid black; padding: 4px;'>Genres</th></tr></thead><tbody><tr><td style='border: 1px solid black; padding: 4px; text-align: center;'>4.599999904632568</td><td style='border: 1px solid black; padding: 4px; text-align: center;'>40815</td><td style='border: 1px solid black; padding: 4px; text-align: center;'>3.8</td><td style='border: 1px solid black; padding: 4px; text-align: center;'>Harry Potter and the Goblet of Fire (2005)</td><td style='border: 1px solid black; padding: 4px; text-align: center;'>Adventure|Fantasy|Thriller</td></tr><tr><td style='border: 1px solid black; padding: 4px; text-align: center;'>4.599999904632568</td><td style='border: 1px solid black; padding: 4px; text-align: center;'>5816</td><td style='border: 1px solid black; padding: 4px; text-align: center;'>3.6</td><td style='border: 1px solid black; padding: 4px; text-align: center;'>Harry Potter and the Chamber of Secrets (2002)</td><td style='border: 1px solid black; padding: 4px; text-align: center;'>Adventure|Fantasy</td></tr><tr><td style='border: 1px solid black; padding: 4px; text-align: center;'>4.5</td><td style='border: 1px solid black; padding: 4px; text-align: center;'>57640</td><td style='border: 1px solid black; padding: 4px; text-align: center;'>3.8</td><td style='border: 1px solid black; padding: 4px; text-align: center;'>Hellboy II: The Golden Army (2008)</td><td style='border: 1px solid black; padding: 4px; text-align: center;'>Action|Adventure|Fantasy|Sci-Fi</td></tr><tr><td style='border: 1px solid black; padding: 4px; text-align: center;'>4.5</td><td style='border: 1px solid black; padding: 4px; text-align: center;'>98809</td><td style='border: 1px solid black; padding: 4px; text-align: center;'>3.8</td><td style='border: 1px solid black; padding: 4px; text-align: center;'>Hobbit: An Unexpected Journey, The (2012)</td><td style='border: 1px solid black; padding: 4px; text-align: center;'>Adventure|Fantasy</td></tr><tr><td style='border: 1px solid black; padding: 4px; text-align: center;'>4.5</td><td style='border: 1px solid black; padding: 4px; text-align: center;'>106489</td><td style='border: 1px solid black; padding: 4px; text-align: center;'>3.6</td><td style='border: 1px solid black; padding: 4px; text-align: center;'>Hobbit: The Desolation of Smaug, The (2013)</td><td style='border: 1px solid black; padding: 4px; text-align: center;'>Adventure|Fantasy</td></tr><tr><td style='border: 1px solid black; padding: 4px; text-align: center;'>4.400000095367432</td><td style='border: 1px solid black; padding: 4px; text-align: center;'>81834</td><td style='border: 1px solid black; padding: 4px; text-align: center;'>4.0</td><td style='border: 1px solid black; padding: 4px; text-align: center;'>Harry Potter and the Deathly Hallows: Part 1 (2010)</td><td style='border: 1px solid black; padding: 4px; text-align: center;'>Action|Adventure|Fantasy</td></tr><tr><td style='border: 1px solid black; padding: 4px; text-align: center;'>4.400000095367432</td><td style='border: 1px solid black; padding: 4px; text-align: center;'>4896</td><td style='border: 1px solid black; padding: 4px; text-align: center;'>3.8</td><td style='border: 1px solid black; padding: 4px; text-align: center;'>Harry Potter and the Sorcerer's Stone (a.k.a. Harry Potter and the Philosopher's Stone) (2001)</td><td style='border: 1px solid black; padding: 4px; text-align: center;'>Adventure|Children|Fantasy</td></tr><tr><td style='border: 1px solid black; padding: 4px; text-align: center;'>4.400000095367432</td><td style='border: 1px solid black; padding: 4px; text-align: center;'>122886</td><td style='border: 1px solid black; padding: 4px; text-align: center;'>3.9</td><td style='border: 1px solid black; padding: 4px; text-align: center;'>Star Wars: Episode VII - The Force Awakens (2015)</td><td style='border: 1px solid black; padding: 4px; text-align: center;'>Action|Adventure|Fantasy|Sci-Fi</td></tr><tr><td style='border: 1px solid black; padding: 4px; text-align: center;'>4.400000095367432</td><td style='border: 1px solid black; padding: 4px; text-align: center;'>8368</td><td style='border: 1px solid black; padding: 4px; text-align: center;'>3.9</td><td style='border: 1px solid black; padding: 4px; text-align: center;'>Harry Potter and the Prisoner of Azkaban (2004)</td><td style='border: 1px solid black; padding: 4px; text-align: center;'>Adventure|Fantasy</td></tr><tr><td style='border: 1px solid black; padding: 4px; text-align: center;'>4.400000095367432</td><td style='border: 1px solid black; padding: 4px; text-align: center;'>98243</td><td style='border: 1px solid black; padding: 4px; text-align: center;'>3.8</td><td style='border: 1px solid black; padding: 4px; text-align: center;'>Rise of the Guardians (2012)</td><td style='border: 1px solid black; padding: 4px; text-align: center;'>Adventure|Animation|Children|Fantasy</td></tr></tbody></table>"
            ]
          },
          "metadata": {}
        }
      ]
    },
    {
      "cell_type": "markdown",
      "source": [
        "#### 2) Predictions for an existing user\n",
        "\n",
        "Below the predictions for the existing user with id 2, one of the users in the data set."
      ],
      "metadata": {
        "id": "j0kYuRZMZTJO"
      }
    },
    {
      "cell_type": "code",
      "source": [
        "uid = 2\n",
        "# form a set of user vectors. This is the same vector, transformed and repeated.\n",
        "user_vecs, y_vecs = get_user_vecs(uid, user_train_unscaled, item_vecs, user_to_genre)\n",
        "\n",
        "# scale our user and item vectors\n",
        "suser_vecs = scalerUser.transform(user_vecs)\n",
        "sitem_vecs = scalerItem.transform(item_vecs)\n",
        "\n",
        "# make a prediction\n",
        "y_p = model.predict([suser_vecs[:, u_s:], sitem_vecs[:, i_s:]])\n",
        "\n",
        "# unscale y prediction\n",
        "y_pu = scalerTarget.inverse_transform(y_p)\n",
        "\n",
        "# sort the results, highest prediction first\n",
        "sorted_index = np.argsort(-y_pu,axis=0).reshape(-1).tolist()  #negate to get largest rating first\n",
        "sorted_ypu   = y_pu[sorted_index]\n",
        "sorted_items = item_vecs[sorted_index]  #using unscaled vectors for display\n",
        "sorted_user  = user_vecs[sorted_index]\n",
        "sorted_y     = y_vecs[sorted_index]\n",
        "\n",
        "uvs = 3  # user genre vector start inside the user own array, avoiding id and other two attributes\n",
        "ivs = 3  # item genre vector start inside the item own, avoiding id and other two attributes\n",
        "\n",
        "#print sorted predictions for movies rated by the user\n",
        "display(HTML(print_existing_user(sorted_ypu, sorted_y.reshape(-1,1), sorted_user, sorted_items, ivs, uvs, movie_dict, maxcount = 20)))"
      ],
      "metadata": {
        "colab": {
          "base_uri": "https://localhost:8080/",
          "height": 592
        },
        "id": "cIAsPANwZgNu",
        "outputId": "08c08bc4-e213-4298-a2cd-db71f11a1034"
      },
      "execution_count": null,
      "outputs": [
        {
          "output_type": "stream",
          "name": "stdout",
          "text": [
            "\u001b[1m27/27\u001b[0m \u001b[32m━━━━━━━━━━━━━━━━━━━━\u001b[0m\u001b[37m\u001b[0m \u001b[1m0s\u001b[0m 5ms/step\n"
          ]
        },
        {
          "output_type": "display_data",
          "data": {
            "text/plain": [
              "<IPython.core.display.HTML object>"
            ],
            "text/html": [
              "<table style='border-collapse: collapse; width: 90%;'><thead><tr><th style='border: 1px solid black; padding: 4px;'>Predicted Rating</th><th style='border: 1px solid black; padding: 4px;'>Actual Rating</th><th style='border: 1px solid black; padding: 4px;'>User ID</th><th style='border: 1px solid black; padding: 4px;'>User Genre Avg</th><th style='border: 1px solid black; padding: 4px;'>Movie Rating Avg</th><th style='border: 1px solid black; padding: 4px;'>Movie ID</th><th style='border: 1px solid black; padding: 4px;'>Title</th><th style='border: 1px solid black; padding: 4px;'>Genres</th></tr></thead><tbody><tr><td style='border: 1px solid black; padding: 4px; text-align: center;'>4.5</td><td style='border: 1px solid black; padding: 4px; text-align: center;'>5.0</td><td style='border: 1px solid black; padding: 4px; text-align: center;'>2</td><td style='border: 1px solid black; padding: 4px; text-align: center;'>4.0</td><td style='border: 1px solid black; padding: 4px; text-align: center;'>4.3</td><td style='border: 1px solid black; padding: 4px; text-align: center;'>80906</td><td style='border: 1px solid black; padding: 4px; text-align: center;'>Inside Job (2010)</td><td style='border: 1px solid black; padding: 4px; text-align: center;'>Documentary</td></tr><tr><td style='border: 1px solid black; padding: 4px; text-align: center;'>4.3</td><td style='border: 1px solid black; padding: 4px; text-align: center;'>4.0</td><td style='border: 1px solid black; padding: 4px; text-align: center;'>2</td><td style='border: 1px solid black; padding: 4px; text-align: center;'>4.0, 4.1, 3.9</td><td style='border: 1px solid black; padding: 4px; text-align: center;'>4.0</td><td style='border: 1px solid black; padding: 4px; text-align: center;'>6874</td><td style='border: 1px solid black; padding: 4px; text-align: center;'>Kill Bill: Vol. 1 (2003)</td><td style='border: 1px solid black; padding: 4px; text-align: center;'>Action|Crime|Thriller</td></tr><tr><td style='border: 1px solid black; padding: 4px; text-align: center;'>4.2</td><td style='border: 1px solid black; padding: 4px; text-align: center;'>3.5</td><td style='border: 1px solid black; padding: 4px; text-align: center;'>2</td><td style='border: 1px solid black; padding: 4px; text-align: center;'>4.0, 4.1, 4.0, 3.9</td><td style='border: 1px solid black; padding: 4px; text-align: center;'>3.8</td><td style='border: 1px solid black; padding: 4px; text-align: center;'>8798</td><td style='border: 1px solid black; padding: 4px; text-align: center;'>Collateral (2004)</td><td style='border: 1px solid black; padding: 4px; text-align: center;'>Action|Crime|Drama|Thriller</td></tr><tr><td style='border: 1px solid black; padding: 4px; text-align: center;'>4.2</td><td style='border: 1px solid black; padding: 4px; text-align: center;'>4.0</td><td style='border: 1px solid black; padding: 4px; text-align: center;'>2</td><td style='border: 1px solid black; padding: 4px; text-align: center;'>4.0, 4.1, 4.0, 4.0, 3.9, 3.9</td><td style='border: 1px solid black; padding: 4px; text-align: center;'>4.1</td><td style='border: 1px solid black; padding: 4px; text-align: center;'>79132</td><td style='border: 1px solid black; padding: 4px; text-align: center;'>Inception (2010)</td><td style='border: 1px solid black; padding: 4px; text-align: center;'>Action|Crime|Drama|Mystery|Sci-Fi|Thriller</td></tr><tr><td style='border: 1px solid black; padding: 4px; text-align: center;'>4.2</td><td style='border: 1px solid black; padding: 4px; text-align: center;'>4.5</td><td style='border: 1px solid black; padding: 4px; text-align: center;'>2</td><td style='border: 1px solid black; padding: 4px; text-align: center;'>4.0, 4.0</td><td style='border: 1px solid black; padding: 4px; text-align: center;'>4.1</td><td style='border: 1px solid black; padding: 4px; text-align: center;'>68157</td><td style='border: 1px solid black; padding: 4px; text-align: center;'>Inglourious Basterds (2009)</td><td style='border: 1px solid black; padding: 4px; text-align: center;'>Action|Drama</td></tr><tr><td style='border: 1px solid black; padding: 4px; text-align: center;'>4.1</td><td style='border: 1px solid black; padding: 4px; text-align: center;'>4.5</td><td style='border: 1px solid black; padding: 4px; text-align: center;'>2</td><td style='border: 1px solid black; padding: 4px; text-align: center;'>4.0, 4.1, 4.0</td><td style='border: 1px solid black; padding: 4px; text-align: center;'>4.2</td><td style='border: 1px solid black; padding: 4px; text-align: center;'>58559</td><td style='border: 1px solid black; padding: 4px; text-align: center;'>Dark Knight, The (2008)</td><td style='border: 1px solid black; padding: 4px; text-align: center;'>Action|Crime|Drama</td></tr><tr><td style='border: 1px solid black; padding: 4px; text-align: center;'>4.1</td><td style='border: 1px solid black; padding: 4px; text-align: center;'>3.5</td><td style='border: 1px solid black; padding: 4px; text-align: center;'>2</td><td style='border: 1px solid black; padding: 4px; text-align: center;'>4.0, 4.0</td><td style='border: 1px solid black; padding: 4px; text-align: center;'>3.9</td><td style='border: 1px solid black; padding: 4px; text-align: center;'>99114</td><td style='border: 1px solid black; padding: 4px; text-align: center;'>Django Unchained (2012)</td><td style='border: 1px solid black; padding: 4px; text-align: center;'>Action|Drama</td></tr><tr><td style='border: 1px solid black; padding: 4px; text-align: center;'>4.0</td><td style='border: 1px solid black; padding: 4px; text-align: center;'>4.0</td><td style='border: 1px solid black; padding: 4px; text-align: center;'>2</td><td style='border: 1px solid black; padding: 4px; text-align: center;'>4.1, 4.0, 3.9</td><td style='border: 1px solid black; padding: 4px; text-align: center;'>4.3</td><td style='border: 1px solid black; padding: 4px; text-align: center;'>48516</td><td style='border: 1px solid black; padding: 4px; text-align: center;'>Departed, The (2006)</td><td style='border: 1px solid black; padding: 4px; text-align: center;'>Crime|Drama|Thriller</td></tr><tr><td style='border: 1px solid black; padding: 4px; text-align: center;'>4.0</td><td style='border: 1px solid black; padding: 4px; text-align: center;'>5.0</td><td style='border: 1px solid black; padding: 4px; text-align: center;'>2</td><td style='border: 1px solid black; padding: 4px; text-align: center;'>4.0, 4.1, 4.0</td><td style='border: 1px solid black; padding: 4px; text-align: center;'>3.9</td><td style='border: 1px solid black; padding: 4px; text-align: center;'>106782</td><td style='border: 1px solid black; padding: 4px; text-align: center;'>Wolf of Wall Street, The (2013)</td><td style='border: 1px solid black; padding: 4px; text-align: center;'>Comedy|Crime|Drama</td></tr><tr><td style='border: 1px solid black; padding: 4px; text-align: center;'>3.9</td><td style='border: 1px solid black; padding: 4px; text-align: center;'>3.5</td><td style='border: 1px solid black; padding: 4px; text-align: center;'>2</td><td style='border: 1px solid black; padding: 4px; text-align: center;'>4.0, 3.9, 3.9</td><td style='border: 1px solid black; padding: 4px; text-align: center;'>3.9</td><td style='border: 1px solid black; padding: 4px; text-align: center;'>115713</td><td style='border: 1px solid black; padding: 4px; text-align: center;'>Ex Machina (2015)</td><td style='border: 1px solid black; padding: 4px; text-align: center;'>Drama|Sci-Fi|Thriller</td></tr><tr><td style='border: 1px solid black; padding: 4px; text-align: center;'>3.8</td><td style='border: 1px solid black; padding: 4px; text-align: center;'>3.0</td><td style='border: 1px solid black; padding: 4px; text-align: center;'>2</td><td style='border: 1px solid black; padding: 4px; text-align: center;'>3.9</td><td style='border: 1px solid black; padding: 4px; text-align: center;'>4.0</td><td style='border: 1px solid black; padding: 4px; text-align: center;'>109487</td><td style='border: 1px solid black; padding: 4px; text-align: center;'>Interstellar (2014)</td><td style='border: 1px solid black; padding: 4px; text-align: center;'>Sci-Fi</td></tr><tr><td style='border: 1px solid black; padding: 4px; text-align: center;'>3.8</td><td style='border: 1px solid black; padding: 4px; text-align: center;'>4.5</td><td style='border: 1px solid black; padding: 4px; text-align: center;'>2</td><td style='border: 1px solid black; padding: 4px; text-align: center;'>4.1, 4.0, 3.9</td><td style='border: 1px solid black; padding: 4px; text-align: center;'>4.0</td><td style='border: 1px solid black; padding: 4px; text-align: center;'>80489</td><td style='border: 1px solid black; padding: 4px; text-align: center;'>Town, The (2010)</td><td style='border: 1px solid black; padding: 4px; text-align: center;'>Crime|Drama|Thriller</td></tr><tr><td style='border: 1px solid black; padding: 4px; text-align: center;'>3.8</td><td style='border: 1px solid black; padding: 4px; text-align: center;'>4.0</td><td style='border: 1px solid black; padding: 4px; text-align: center;'>2</td><td style='border: 1px solid black; padding: 4px; text-align: center;'>4.0, 4.0, 3.9</td><td style='border: 1px solid black; padding: 4px; text-align: center;'>4.0</td><td style='border: 1px solid black; padding: 4px; text-align: center;'>74458</td><td style='border: 1px solid black; padding: 4px; text-align: center;'>Shutter Island (2010)</td><td style='border: 1px solid black; padding: 4px; text-align: center;'>Drama|Mystery|Thriller</td></tr><tr><td style='border: 1px solid black; padding: 4px; text-align: center;'>3.7</td><td style='border: 1px solid black; padding: 4px; text-align: center;'>4.0</td><td style='border: 1px solid black; padding: 4px; text-align: center;'>2</td><td style='border: 1px solid black; padding: 4px; text-align: center;'>4.0</td><td style='border: 1px solid black; padding: 4px; text-align: center;'>4.0</td><td style='border: 1px solid black; padding: 4px; text-align: center;'>112552</td><td style='border: 1px solid black; padding: 4px; text-align: center;'>Whiplash (2014)</td><td style='border: 1px solid black; padding: 4px; text-align: center;'>Drama</td></tr><tr><td style='border: 1px solid black; padding: 4px; text-align: center;'>3.7</td><td style='border: 1px solid black; padding: 4px; text-align: center;'>3.5</td><td style='border: 1px solid black; padding: 4px; text-align: center;'>2</td><td style='border: 1px solid black; padding: 4px; text-align: center;'>4.0, 4.2, 4.1</td><td style='border: 1px solid black; padding: 4px; text-align: center;'>4.0</td><td style='border: 1px solid black; padding: 4px; text-align: center;'>91529</td><td style='border: 1px solid black; padding: 4px; text-align: center;'>Dark Knight Rises, The (2012)</td><td style='border: 1px solid black; padding: 4px; text-align: center;'>Action|Adventure|Crime</td></tr><tr><td style='border: 1px solid black; padding: 4px; text-align: center;'>3.7</td><td style='border: 1px solid black; padding: 4px; text-align: center;'>5.0</td><td style='border: 1px solid black; padding: 4px; text-align: center;'>2</td><td style='border: 1px solid black; padding: 4px; text-align: center;'>4.0</td><td style='border: 1px solid black; padding: 4px; text-align: center;'>3.7</td><td style='border: 1px solid black; padding: 4px; text-align: center;'>89774</td><td style='border: 1px solid black; padding: 4px; text-align: center;'>Warrior (2011)</td><td style='border: 1px solid black; padding: 4px; text-align: center;'>Drama</td></tr><tr><td style='border: 1px solid black; padding: 4px; text-align: center;'>3.5</td><td style='border: 1px solid black; padding: 4px; text-align: center;'>5.0</td><td style='border: 1px solid black; padding: 4px; text-align: center;'>2</td><td style='border: 1px solid black; padding: 4px; text-align: center;'>4.0, 4.2, 3.9, 3.9</td><td style='border: 1px solid black; padding: 4px; text-align: center;'>3.8</td><td style='border: 1px solid black; padding: 4px; text-align: center;'>122882</td><td style='border: 1px solid black; padding: 4px; text-align: center;'>Mad Max: Fury Road (2015)</td><td style='border: 1px solid black; padding: 4px; text-align: center;'>Action|Adventure|Sci-Fi|Thriller</td></tr><tr><td style='border: 1px solid black; padding: 4px; text-align: center;'>3.5</td><td style='border: 1px solid black; padding: 4px; text-align: center;'>5.0</td><td style='border: 1px solid black; padding: 4px; text-align: center;'>2</td><td style='border: 1px solid black; padding: 4px; text-align: center;'>4.0</td><td style='border: 1px solid black; padding: 4px; text-align: center;'>3.6</td><td style='border: 1px solid black; padding: 4px; text-align: center;'>60756</td><td style='border: 1px solid black; padding: 4px; text-align: center;'>Step Brothers (2008)</td><td style='border: 1px solid black; padding: 4px; text-align: center;'>Comedy</td></tr><tr><td style='border: 1px solid black; padding: 4px; text-align: center;'>3.5</td><td style='border: 1px solid black; padding: 4px; text-align: center;'>2.5</td><td style='border: 1px solid black; padding: 4px; text-align: center;'>2</td><td style='border: 1px solid black; padding: 4px; text-align: center;'>4.0, 3.9</td><td style='border: 1px solid black; padding: 4px; text-align: center;'>3.5</td><td style='border: 1px solid black; padding: 4px; text-align: center;'>91658</td><td style='border: 1px solid black; padding: 4px; text-align: center;'>Girl with the Dragon Tattoo, The (2011)</td><td style='border: 1px solid black; padding: 4px; text-align: center;'>Drama|Thriller</td></tr><tr><td style='border: 1px solid black; padding: 4px; text-align: center;'>3.1</td><td style='border: 1px solid black; padding: 4px; text-align: center;'>3.0</td><td style='border: 1px solid black; padding: 4px; text-align: center;'>2</td><td style='border: 1px solid black; padding: 4px; text-align: center;'>4.0, 4.0</td><td style='border: 1px solid black; padding: 4px; text-align: center;'>4.0</td><td style='border: 1px solid black; padding: 4px; text-align: center;'>77455</td><td style='border: 1px solid black; padding: 4px; text-align: center;'>Exit Through the Gift Shop (2010)</td><td style='border: 1px solid black; padding: 4px; text-align: center;'>Comedy|Documentary</td></tr></tbody></table>"
            ]
          },
          "metadata": {}
        }
      ]
    },
    {
      "cell_type": "markdown",
      "source": [
        "#### 3) Finding similar items\n",
        "\n",
        "As said at the beginning, to identify similar items, one can analyze only the item/movie vectors, without needing the user vector. Movies with similar feature vectors are considered alike, allowing us to make recommendations based on item similarity.\n",
        "\n",
        "A similarity measure is the squared distance between the two vectors of movies/items $ \\mathbf{v_m^{(k)}}$ and $\\mathbf{v_m^{(i)}}$ :\n",
        "$$\\left\\Vert \\mathbf{v_m^{(k)}} - \\mathbf{v_m^{(i)}}  \\right\\Vert^2 = \\sum_{l=1}^{n}(v_{m_l}^{(k)} - v_{m_l}^{(i)})^2$$\n",
        "\n",
        "A ***matrix of distances between movies*** can be computed once when the model is trained and ***then reused for new recommendations without retraining***. The first step, once a model is trained, is to obtain the movie feature vector, $v_m$, for each of the movies. To do this, `item_NN` can be used to build a small model to run the movie vectors through it to generate $v_m$.\n",
        "\n",
        "Once the movie model is created, one can use it to build a set of movie feature vector. item_vecs is a set of all of the movie vectors. It must be scaled to use with the trained model. The result of the prediction is a ***32 entry feature vector for each movie***.\n",
        "\n",
        "One can find the closest movie by finding the minimum along each row of the matrix.  to avoid selecting the same movie make use of ***numpy masked arrays*** as the masked values along the diagonal won't be included in the computation."
      ],
      "metadata": {
        "id": "N0nAUDJFcRCe"
      }
    },
    {
      "cell_type": "code",
      "source": [
        "def sq_dist(a,b):\n",
        "    \"\"\"\n",
        "    Returns the squared distance between two vectors\n",
        "    Args:\n",
        "      a (ndarray (n,)): vector with n features\n",
        "      b (ndarray (n,)): vector with n features\n",
        "    Returns:\n",
        "      d (float) : distance\n",
        "    \"\"\"\n",
        "    d = sum(np.square(a-b))\n",
        "    return d"
      ],
      "metadata": {
        "id": "EnKSkITxctx8"
      },
      "execution_count": null,
      "outputs": []
    },
    {
      "cell_type": "code",
      "source": [
        "input_item_m = tf.keras.layers.Input(shape=(num_item_features,))   # Input layer\n",
        "vm_m = item_NN(input_item_m)                                       # Use the trained item_NN\n",
        "vm_m = tf.keras.layers.LayerNormalization(axis=1)(vm_m)            # Use LayerNormalization for compatibility\n",
        "model_m = tf.keras.Model(input_item_m, vm_m)                       # Define the model\n",
        "model_m.summary()\n"
      ],
      "metadata": {
        "colab": {
          "base_uri": "https://localhost:8080/",
          "height": 250
        },
        "id": "6B901ldrc3z8",
        "outputId": "70ccba61-c8de-40b8-84c5-10563ac36369"
      },
      "execution_count": null,
      "outputs": [
        {
          "output_type": "display_data",
          "data": {
            "text/plain": [
              "\u001b[1mModel: \"functional_11\"\u001b[0m\n"
            ],
            "text/html": [
              "<pre style=\"white-space:pre;overflow-x:auto;line-height:normal;font-family:Menlo,'DejaVu Sans Mono',consolas,'Courier New',monospace\"><span style=\"font-weight: bold\">Model: \"functional_11\"</span>\n",
              "</pre>\n"
            ]
          },
          "metadata": {}
        },
        {
          "output_type": "display_data",
          "data": {
            "text/plain": [
              "┏━━━━━━━━━━━━━━━━━━━━━━━━━━━━━━━━━━━━━━┳━━━━━━━━━━━━━━━━━━━━━━━━━━━━━┳━━━━━━━━━━━━━━━━━┓\n",
              "┃\u001b[1m \u001b[0m\u001b[1mLayer (type)                        \u001b[0m\u001b[1m \u001b[0m┃\u001b[1m \u001b[0m\u001b[1mOutput Shape               \u001b[0m\u001b[1m \u001b[0m┃\u001b[1m \u001b[0m\u001b[1m        Param #\u001b[0m\u001b[1m \u001b[0m┃\n",
              "┡━━━━━━━━━━━━━━━━━━━━━━━━━━━━━━━━━━━━━━╇━━━━━━━━━━━━━━━━━━━━━━━━━━━━━╇━━━━━━━━━━━━━━━━━┩\n",
              "│ input_layer_21 (\u001b[38;5;33mInputLayer\u001b[0m)          │ (\u001b[38;5;45mNone\u001b[0m, \u001b[38;5;34m16\u001b[0m)                  │               \u001b[38;5;34m0\u001b[0m │\n",
              "├──────────────────────────────────────┼─────────────────────────────┼─────────────────┤\n",
              "│ sequential_15 (\u001b[38;5;33mSequential\u001b[0m)           │ (\u001b[38;5;45mNone\u001b[0m, \u001b[38;5;34m32\u001b[0m)                  │          \u001b[38;5;34m41,376\u001b[0m │\n",
              "├──────────────────────────────────────┼─────────────────────────────┼─────────────────┤\n",
              "│ layer_normalization                  │ (\u001b[38;5;45mNone\u001b[0m, \u001b[38;5;34m32\u001b[0m)                  │              \u001b[38;5;34m64\u001b[0m │\n",
              "│ (\u001b[38;5;33mLayerNormalization\u001b[0m)                 │                             │                 │\n",
              "└──────────────────────────────────────┴─────────────────────────────┴─────────────────┘\n"
            ],
            "text/html": [
              "<pre style=\"white-space:pre;overflow-x:auto;line-height:normal;font-family:Menlo,'DejaVu Sans Mono',consolas,'Courier New',monospace\">┏━━━━━━━━━━━━━━━━━━━━━━━━━━━━━━━━━━━━━━┳━━━━━━━━━━━━━━━━━━━━━━━━━━━━━┳━━━━━━━━━━━━━━━━━┓\n",
              "┃<span style=\"font-weight: bold\"> Layer (type)                         </span>┃<span style=\"font-weight: bold\"> Output Shape                </span>┃<span style=\"font-weight: bold\">         Param # </span>┃\n",
              "┡━━━━━━━━━━━━━━━━━━━━━━━━━━━━━━━━━━━━━━╇━━━━━━━━━━━━━━━━━━━━━━━━━━━━━╇━━━━━━━━━━━━━━━━━┩\n",
              "│ input_layer_21 (<span style=\"color: #0087ff; text-decoration-color: #0087ff\">InputLayer</span>)          │ (<span style=\"color: #00d7ff; text-decoration-color: #00d7ff\">None</span>, <span style=\"color: #00af00; text-decoration-color: #00af00\">16</span>)                  │               <span style=\"color: #00af00; text-decoration-color: #00af00\">0</span> │\n",
              "├──────────────────────────────────────┼─────────────────────────────┼─────────────────┤\n",
              "│ sequential_15 (<span style=\"color: #0087ff; text-decoration-color: #0087ff\">Sequential</span>)           │ (<span style=\"color: #00d7ff; text-decoration-color: #00d7ff\">None</span>, <span style=\"color: #00af00; text-decoration-color: #00af00\">32</span>)                  │          <span style=\"color: #00af00; text-decoration-color: #00af00\">41,376</span> │\n",
              "├──────────────────────────────────────┼─────────────────────────────┼─────────────────┤\n",
              "│ layer_normalization                  │ (<span style=\"color: #00d7ff; text-decoration-color: #00d7ff\">None</span>, <span style=\"color: #00af00; text-decoration-color: #00af00\">32</span>)                  │              <span style=\"color: #00af00; text-decoration-color: #00af00\">64</span> │\n",
              "│ (<span style=\"color: #0087ff; text-decoration-color: #0087ff\">LayerNormalization</span>)                 │                             │                 │\n",
              "└──────────────────────────────────────┴─────────────────────────────┴─────────────────┘\n",
              "</pre>\n"
            ]
          },
          "metadata": {}
        },
        {
          "output_type": "display_data",
          "data": {
            "text/plain": [
              "\u001b[1m Total params: \u001b[0m\u001b[38;5;34m41,440\u001b[0m (161.88 KB)\n"
            ],
            "text/html": [
              "<pre style=\"white-space:pre;overflow-x:auto;line-height:normal;font-family:Menlo,'DejaVu Sans Mono',consolas,'Courier New',monospace\"><span style=\"font-weight: bold\"> Total params: </span><span style=\"color: #00af00; text-decoration-color: #00af00\">41,440</span> (161.88 KB)\n",
              "</pre>\n"
            ]
          },
          "metadata": {}
        },
        {
          "output_type": "display_data",
          "data": {
            "text/plain": [
              "\u001b[1m Trainable params: \u001b[0m\u001b[38;5;34m41,440\u001b[0m (161.88 KB)\n"
            ],
            "text/html": [
              "<pre style=\"white-space:pre;overflow-x:auto;line-height:normal;font-family:Menlo,'DejaVu Sans Mono',consolas,'Courier New',monospace\"><span style=\"font-weight: bold\"> Trainable params: </span><span style=\"color: #00af00; text-decoration-color: #00af00\">41,440</span> (161.88 KB)\n",
              "</pre>\n"
            ]
          },
          "metadata": {}
        },
        {
          "output_type": "display_data",
          "data": {
            "text/plain": [
              "\u001b[1m Non-trainable params: \u001b[0m\u001b[38;5;34m0\u001b[0m (0.00 B)\n"
            ],
            "text/html": [
              "<pre style=\"white-space:pre;overflow-x:auto;line-height:normal;font-family:Menlo,'DejaVu Sans Mono',consolas,'Courier New',monospace\"><span style=\"font-weight: bold\"> Non-trainable params: </span><span style=\"color: #00af00; text-decoration-color: #00af00\">0</span> (0.00 B)\n",
              "</pre>\n"
            ]
          },
          "metadata": {}
        }
      ]
    },
    {
      "cell_type": "code",
      "source": [
        "scaled_item_vecs = scalerItem.transform(item_vecs)\n",
        "vms = model_m.predict(scaled_item_vecs[:,i_s:])\n",
        "print(f\"size of all predicted movie feature vectors: {vms.shape}\")"
      ],
      "metadata": {
        "colab": {
          "base_uri": "https://localhost:8080/"
        },
        "id": "jqBFeGIJdw6i",
        "outputId": "3fdd2ee8-f97c-4a93-f80d-8620777d4ccb"
      },
      "execution_count": null,
      "outputs": [
        {
          "output_type": "stream",
          "name": "stdout",
          "text": [
            "\u001b[1m27/27\u001b[0m \u001b[32m━━━━━━━━━━━━━━━━━━━━\u001b[0m\u001b[37m\u001b[0m \u001b[1m0s\u001b[0m 6ms/step\n",
            "size of all predicted movie feature vectors: (847, 32)\n"
          ]
        }
      ]
    },
    {
      "cell_type": "code",
      "source": [
        "def print_movie_distances(vms, item_vecs, movie_dict, count=10):\n",
        "    \"\"\"\n",
        "    Display a table showing the closest movies to each movie based on calculated distances.\n",
        "    \"\"\"\n",
        "    dim = len(vms)\n",
        "    dist = np.zeros((dim, dim))\n",
        "\n",
        "    # Calculate the squared distances between movies\n",
        "    for i in range(dim):\n",
        "        for j in range(dim):\n",
        "            dist[i, j] = sq_dist(vms[i, :], vms[j, :])\n",
        "\n",
        "    # Mask the diagonal to ignore self-comparisons\n",
        "    m_dist = ma.masked_array(dist, mask=np.identity(dist.shape[0]))\n",
        "\n",
        "    # Begin building the HTML table\n",
        "    html = \"<table style='border-collapse: collapse; width: 90%;'>\"\n",
        "    html += \"<thead><tr>\"\n",
        "    headers = [\"Movie 1\", \"Genres\", \"Related Movie\", \"Genres\"]\n",
        "    for header in headers:\n",
        "        html += f\"<th style='border: 1px solid black; padding: 4px;'>{header}</th>\"\n",
        "    html += \"</tr></thead><tbody>\"\n",
        "\n",
        "    # Fill in the rows for the closest movies\n",
        "    for i in range(count):\n",
        "        min_idx = np.argmin(m_dist[i])\n",
        "        movie1_id = int(item_vecs[i, 0])\n",
        "        movie2_id = int(item_vecs[min_idx, 0])\n",
        "\n",
        "        html += \"<tr>\"\n",
        "        html += f\"<td style='border: 1px solid black; padding: 4px; text-align: center;'>{movie_dict[movie1_id]['title']}</td>\"\n",
        "        html += f\"<td style='border: 1px solid black; padding: 4px; text-align: center;'>{movie_dict[movie1_id]['genres']}</td>\"\n",
        "        html += f\"<td style='border: 1px solid black; padding: 4px; text-align: center;'>{movie_dict[movie2_id]['title']}</td>\"\n",
        "        html += f\"<td style='border: 1px solid black; padding: 4px; text-align: center;'>{movie_dict[movie2_id]['genres']}</td>\"\n",
        "        html += \"</tr>\"\n",
        "\n",
        "    html += \"</tbody></table>\"\n",
        "    return html"
      ],
      "metadata": {
        "id": "AXNL02KVedpp"
      },
      "execution_count": null,
      "outputs": []
    },
    {
      "cell_type": "code",
      "source": [
        "display(HTML(print_movie_distances(vms, item_vecs, movie_dict)))"
      ],
      "metadata": {
        "colab": {
          "base_uri": "https://localhost:8080/",
          "height": 309
        },
        "id": "2pJlsGA_eutT",
        "outputId": "703f8698-47dc-48f1-a57d-06e23c99c4bb"
      },
      "execution_count": null,
      "outputs": [
        {
          "output_type": "display_data",
          "data": {
            "text/plain": [
              "<IPython.core.display.HTML object>"
            ],
            "text/html": [
              "<table style='border-collapse: collapse; width: 90%;'><thead><tr><th style='border: 1px solid black; padding: 4px;'>Movie 1</th><th style='border: 1px solid black; padding: 4px;'>Genres</th><th style='border: 1px solid black; padding: 4px;'>Related Movie</th><th style='border: 1px solid black; padding: 4px;'>Genres</th></tr></thead><tbody><tr><td style='border: 1px solid black; padding: 4px; text-align: center;'>Save the Last Dance (2001)</td><td style='border: 1px solid black; padding: 4px; text-align: center;'>Drama|Romance</td><td style='border: 1px solid black; padding: 4px; text-align: center;'>Mona Lisa Smile (2003)</td><td style='border: 1px solid black; padding: 4px; text-align: center;'>Drama|Romance</td></tr><tr><td style='border: 1px solid black; padding: 4px; text-align: center;'>Wedding Planner, The (2001)</td><td style='border: 1px solid black; padding: 4px; text-align: center;'>Comedy|Romance</td><td style='border: 1px solid black; padding: 4px; text-align: center;'>Mr. Deeds (2002)</td><td style='border: 1px solid black; padding: 4px; text-align: center;'>Comedy|Romance</td></tr><tr><td style='border: 1px solid black; padding: 4px; text-align: center;'>Hannibal (2001)</td><td style='border: 1px solid black; padding: 4px; text-align: center;'>Horror|Thriller</td><td style='border: 1px solid black; padding: 4px; text-align: center;'>Final Destination 2 (2003)</td><td style='border: 1px solid black; padding: 4px; text-align: center;'>Horror|Thriller</td></tr><tr><td style='border: 1px solid black; padding: 4px; text-align: center;'>Saving Silverman (Evil Woman) (2001)</td><td style='border: 1px solid black; padding: 4px; text-align: center;'>Comedy|Romance</td><td style='border: 1px solid black; padding: 4px; text-align: center;'>Sweetest Thing, The (2002)</td><td style='border: 1px solid black; padding: 4px; text-align: center;'>Comedy|Romance</td></tr><tr><td style='border: 1px solid black; padding: 4px; text-align: center;'>Down to Earth (2001)</td><td style='border: 1px solid black; padding: 4px; text-align: center;'>Comedy|Fantasy|Romance</td><td style='border: 1px solid black; padding: 4px; text-align: center;'>Bewitched (2005)</td><td style='border: 1px solid black; padding: 4px; text-align: center;'>Comedy|Fantasy|Romance</td></tr><tr><td style='border: 1px solid black; padding: 4px; text-align: center;'>Mexican, The (2001)</td><td style='border: 1px solid black; padding: 4px; text-align: center;'>Action|Comedy</td><td style='border: 1px solid black; padding: 4px; text-align: center;'>Rush Hour 2 (2001)</td><td style='border: 1px solid black; padding: 4px; text-align: center;'>Action|Comedy</td></tr><tr><td style='border: 1px solid black; padding: 4px; text-align: center;'>15 Minutes (2001)</td><td style='border: 1px solid black; padding: 4px; text-align: center;'>Thriller</td><td style='border: 1px solid black; padding: 4px; text-align: center;'>Panic Room (2002)</td><td style='border: 1px solid black; padding: 4px; text-align: center;'>Thriller</td></tr><tr><td style='border: 1px solid black; padding: 4px; text-align: center;'>Enemy at the Gates (2001)</td><td style='border: 1px solid black; padding: 4px; text-align: center;'>Drama</td><td style='border: 1px solid black; padding: 4px; text-align: center;'>Aviator, The (2004)</td><td style='border: 1px solid black; padding: 4px; text-align: center;'>Drama</td></tr><tr><td style='border: 1px solid black; padding: 4px; text-align: center;'>Heartbreakers (2001)</td><td style='border: 1px solid black; padding: 4px; text-align: center;'>Comedy|Crime|Romance</td><td style='border: 1px solid black; padding: 4px; text-align: center;'>Fun with Dick and Jane (2005)</td><td style='border: 1px solid black; padding: 4px; text-align: center;'>Comedy|Crime</td></tr><tr><td style='border: 1px solid black; padding: 4px; text-align: center;'>Spy Kids (2001)</td><td style='border: 1px solid black; padding: 4px; text-align: center;'>Action|Adventure|Children|Comedy</td><td style='border: 1px solid black; padding: 4px; text-align: center;'>Scooby-Doo (2002)</td><td style='border: 1px solid black; padding: 4px; text-align: center;'>Adventure|Children|Comedy|Fantasy|Mystery</td></tr></tbody></table>"
            ]
          },
          "metadata": {}
        }
      ]
    }
  ]
}